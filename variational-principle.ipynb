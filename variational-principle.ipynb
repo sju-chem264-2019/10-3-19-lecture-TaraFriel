{
 "cells": [
  {
   "cell_type": "markdown",
   "metadata": {},
   "source": [
    "# Variational Principle  using Symbolic Mathematics in Python "
   ]
  },
  {
   "cell_type": "markdown",
   "metadata": {},
   "source": [
    "## 1. Introduction"
   ]
  },
  {
   "cell_type": "markdown",
   "metadata": {},
   "source": [
    "The variational principle tells us that we can use a trial wavefunction to solve the Schrodinger equation using the following theorem:\n",
    "\n",
    "$${{\\int {{\\Psi ^*}\\hat H{\\rm{ }}\\Psi } d\\tau } \\over {\\int {{\\Psi ^*}\\Psi } d\\tau }} \\ge {E_0}$$\n",
    "\n",
    "We will use Sympy to solve the particle in a box problem by guessing a trial wavefunction using variational principle"
   ]
  },
  {
   "cell_type": "code",
   "execution_count": 2,
   "metadata": {},
   "outputs": [],
   "source": [
    "import sympy as sym"
   ]
  },
  {
   "cell_type": "markdown",
   "metadata": {},
   "source": [
    "This exercise is a bit more self-guided than the other notebooks we have done. One of the most useful things you can do is **open last week's notebook to remember the commands in sympy**. Also, remember that google is your friend:\n",
    "\n",
    "1. [Sympy tutorial](https://docs.sympy.org/latest/tutorial/index.html)\n",
    "2. [Stack Overflow](https://stackoverflow.com/search?q=sympy+)\n",
    "3. [Stack Exchange](https://stackexchange.com/)"
   ]
  },
  {
   "cell_type": "markdown",
   "metadata": {},
   "source": [
    "## 2. Particle in a box"
   ]
  },
  {
   "cell_type": "markdown",
   "metadata": {},
   "source": [
    "The wave function that we pick for a particle in a box needs to have the following properties\n",
    "\n",
    "1. single valued\n",
    "1. normalizable\n",
    "1. function and its first derivative are continuous \n",
    "1. boundary condition that the wave function goes to zero at the ends of the box\n",
    "\n",
    "![Particle in a box](InfiniteSquareWellAnimation.gif)\n",
    "\n",
    "Particle in a box: a is a classical particle, red is real part, blue is imaginary part."
   ]
  },
  {
   "cell_type": "markdown",
   "metadata": {},
   "source": [
    "This particle only expericnes kinetic energy between the box, so the Hamiltonian for this system is\n",
    "\n",
    "$$\\hat H = {{ - {\\hbar ^2}} \\over {2m}}{{{d^2}} \\over {d{x^2}}} + \\left\\{ {\\matrix{{V(x) = 0} & {0 < x < a}  \\cr {V(x) = \\infty } & {x < 0\\text{ }{\\rm{ or}}\\;x > a}  \\cr } } \\right.$$\n",
    "\n",
    "For our purposes, that means we can consider the Hamiltonian to be \n",
    "\n",
    "$$\\hat H = {{ - {\\hbar ^2}} \\over {2m}}{{{d^2}} \\over {d{x^2}}}$$\n",
    "\n",
    "as long as we keep the limits of integration to be $(0,a)$"
   ]
  },
  {
   "cell_type": "markdown",
   "metadata": {},
   "source": [
    "### 2.1 Trial Wave function"
   ]
  },
  {
   "cell_type": "markdown",
   "metadata": {},
   "source": [
    "Although the particle in box has a well known solution\n",
    "\n",
    "[https://en.wikipedia.org/wiki/Particle_in_a_box](https://en.wikipedia.org/wiki/Particle_in_a_box)\n",
    "\n",
    "(or check your favorite pchem book)\n",
    "\n",
    "We are going to guess a trial wave function:\n",
    "\n",
    "$$\\Phi (x) = \\left( {{x \\over a} - {{{x^3}} \\over a}} \\right) + \\alpha \\left( {{{{x^5}} \\over {{a^5}}} - {1 \\over 2}\\left( {{{{x^7}} \\over {{a^7}}} + {{{x^7}} \\over {{a^7}}}} \\right)} \\right)$$"
   ]
  },
  {
   "cell_type": "markdown",
   "metadata": {},
   "source": [
    "### 2.2 Exercise: Variational Theorem"
   ]
  },
  {
   "cell_type": "markdown",
   "metadata": {},
   "source": [
    "We are going to follow the following plan:\n",
    "\n",
    "1. Solve for the energy of the trial wave function above  \n",
    "\n",
    "$${E_{trial}} = {{\\int\\limits_0^a {\\Phi (x){{ - {\\hbar ^2}} \\over {2m}}{{{d^2}} \\over {d{x^2}}}\\Phi (x)dx} } \\over {\\int\\limits_0^a {\\Phi {{(x)}^2}dx} }}$$\n",
    "\n",
    "Your answer will be a function of $ m,a,\\text{and } \\alpha$ We will use $\\alpha$ as the parameter we vary to minimize the energy and make a new trial wave function.\n",
    "\n",
    "2. Minimize the trial energy \n",
    "We will use a first derivative of the trial energy $${d \\over {d\\alpha }}{E_{trial}}(\\alpha )$$ to find the value of $\\alpha$ that gives you the lowest energy\n",
    "\n",
    "\n",
    "3. Plot your new wavefunction compared to the ground state particle in a box: $${\\psi _{true}}(x) = {\\left( {{2 \\over a}} \\right)^{1/2}}\\sin {{n\\pi x} \\over a}$$ Plot as a function of $x/a$ from $0$ to $1$. Assuming this has $m=m_e$, and $a=a_0$ use atomic (theorist) units to plot the function.\n",
    "\n",
    "4. Compare your trial energy to the actual energy (using atomic units)\n",
    "$${E_{true}}(n = 1) = {{{\\hbar ^2}{\\pi ^2}} \\over {2m{a^2}}}$$\n"
   ]
  },
  {
   "cell_type": "code",
   "execution_count": 2,
   "metadata": {},
   "outputs": [
    {
     "data": {
      "image/png": "[encoded data removed]",
      "text/latex": [
       "$\\displaystyle \\left( \\alpha, \\  \\phi, \\  \\Phi, \\  \\hbar\\right)$"
      ],
      "text/plain": [
       "(α, φ, Φ, h̅)"
      ]
     },
     "execution_count": 2,
     "metadata": {},
     "output_type": "execute_result"
    }
   ],
   "source": [
    "import sympy as sym\n",
    "a,x,m=sym.symbols('a,x,m')\n",
    "sym.Rational(1/2)\n",
    "from sympy.physics.units import hbar\n",
    "sym.init_printing()\n",
    "Phi,phi,alpha,hbar=sym.symbols(\"Phi,phi,alpha,hbar\")\n",
    "alpha,phi,Phi,hbar"
   ]
  },
  {
   "cell_type": "code",
   "execution_count": 18,
   "metadata": {},
   "outputs": [],
   "source": [
    "import sympy as sym\n",
    "phi = ((x/a)-(x**3/a**3)+ alpha*((x**5/a**5)-1/2*(x**9/a**9+x**9/a**9)))\n",
    "top1 = (phi*sym.Rational(-1/2))\n",
    "top2 = sym.diff(sym.diff(phi,x),x)\n",
    "bottom1 = (phi**2)"
   ]
  },
  {
   "cell_type": "code",
   "execution_count": 33,
   "metadata": {},
   "outputs": [
    {
     "name": "stdout",
     "output_type": "stream",
     "text": [
      "(0.309703368526898*alpha**2 + 0.311688311688312*alpha + 0.4)/(0.010207336523126*alpha**2 + 0.0355200355200355*alpha + 0.0761904761904761)\n"
     ]
    }
   ],
   "source": [
    "import sympy as sym\n",
    "top = sym.integrate((top1*top2),(x,0,a))\n",
    "bottom = sym.integrate((bottom1),(x,0,a))\n",
    "top/bottom\n",
    "Etrial = (top/bottom).subs(a,1)\n",
    "print(Etrial)"
   ]
  },
  {
   "cell_type": "code",
   "execution_count": 5,
   "metadata": {},
   "outputs": [
    {
     "data": {
      "image/png": "[encoded data removed]",
      "text/latex": [
       "$\\displaystyle \\left\\{-4.73345207773701, -0.257747652303185\\right\\}$"
      ],
      "text/plain": [
       "{-4.73345207773701, -0.257747652303185}"
      ]
     },
     "execution_count": 5,
     "metadata": {},
     "output_type": "execute_result"
    }
   ],
   "source": [
    "import sympy as sym\n",
    "sym.solveset(sym.diff(Etrial,alpha))"
   ]
  },
  {
   "cell_type": "code",
   "execution_count": 6,
   "metadata": {},
   "outputs": [
    {
     "data": {
      "image/png": "[encoded data removed]",
      "text/latex": [
       "$\\displaystyle 5.02467668289965$"
      ],
      "text/plain": [
       "5.02467668289965"
      ]
     },
     "execution_count": 6,
     "metadata": {},
     "output_type": "execute_result"
    }
   ],
   "source": [
    "Etrial.subs(alpha, -0.257747652303185)"
   ]
  },
  {
   "cell_type": "code",
   "execution_count": 7,
   "metadata": {},
   "outputs": [
    {
     "data": {
      "image/png": "[encoded data removed]",
      "text/latex": [
       "$\\displaystyle 42.8762045251218$"
      ],
      "text/plain": [
       "42.8762045251218"
      ]
     },
     "execution_count": 7,
     "metadata": {},
     "output_type": "execute_result"
    }
   ],
   "source": [
    "Etrial.subs(alpha, -4.73345207773701)"
   ]
  },
  {
   "cell_type": "code",
   "execution_count": 32,
   "metadata": {},
   "outputs": [
    {
     "name": "stdout",
     "output_type": "stream",
     "text": [
      "x/a - x**3/a**3 + 5.02467668289965*x**5/a**5 - 5.02467668289965*x**9/a**9\n"
     ]
    }
   ],
   "source": [
    "NewWave = phi.subs(alpha, 5.02467668289965)\n",
    "print(NewWave)"
   ]
  },
  {
   "cell_type": "code",
   "execution_count": 31,
   "metadata": {},
   "outputs": [
    {
     "name": "stdout",
     "output_type": "stream",
     "text": [
      "-5.02467668289965*x**9 + 5.02467668289965*x**5 - x**3 + x\n"
     ]
    }
   ],
   "source": [
    "NewWave2 = NewWave.subs(a,1)\n",
    "print(NewWave2)"
   ]
  },
  {
   "cell_type": "code",
   "execution_count": 22,
   "metadata": {},
   "outputs": [
    {
     "data": {
      "image/png": "[encoded data removed]",
      "text/plain": [
       "<Figure size 432x288 with 1 Axes>"
      ]
     },
     "metadata": {
      "needs_background": "light"
     },
     "output_type": "display_data"
    },
    {
     "data": {
      "text/plain": [
       "<sympy.plotting.plot.Plot at 0x1202a4ef0>"
      ]
     },
     "execution_count": 22,
     "metadata": {},
     "output_type": "execute_result"
    }
   ],
   "source": [
    "sym.plot(NewWave2,(x,0,1))"
   ]
  },
  {
   "cell_type": "code",
   "execution_count": 15,
   "metadata": {},
   "outputs": [
    {
     "data": {
      "image/png": "[encoded data removed]",
      "text/plain": [
       "<Figure size 432x288 with 1 Axes>"
      ]
     },
     "metadata": {
      "needs_background": "light"
     },
     "output_type": "display_data"
    },
    {
     "data": {
      "text/plain": [
       "<sympy.plotting.plot.Plot at 0x11faaf048>"
      ]
     },
     "execution_count": 15,
     "metadata": {},
     "output_type": "execute_result"
    }
   ],
   "source": [
    "sym.plot((2**1/2)*sym.sin(sym.pi*x),(x,0,1))"
   ]
  },
  {
   "cell_type": "code",
   "execution_count": 23,
   "metadata": {},
   "outputs": [
    {
     "data": {
      "image/png": "[encoded data removed]",
      "text/plain": [
       "<Figure size 432x288 with 1 Axes>"
      ]
     },
     "metadata": {
      "needs_background": "light"
     },
     "output_type": "display_data"
    },
    {
     "data": {
      "text/plain": [
       "<sympy.plotting.plot.Plot at 0x120317940>"
      ]
     },
     "execution_count": 23,
     "metadata": {},
     "output_type": "execute_result"
    }
   ],
   "source": [
    "sym.plot((2**1/2)*sym.sin(sym.pi*x),NewWave2,(x,0,1))"
   ]
  },
  {
   "cell_type": "code",
   "execution_count": 30,
   "metadata": {},
   "outputs": [
    {
     "name": "stdout",
     "output_type": "stream",
     "text": [
      "pi**2/(2*m)\n"
     ]
    }
   ],
   "source": [
    "Etrue = sym.pi**2/(2*m)\n",
    "print(Etrue)"
   ]
  },
  {
   "cell_type": "markdown",
   "metadata": {},
   "source": [
    "Your descriptions/explanations here"
   ]
  },
  {
   "cell_type": "markdown",
   "metadata": {},
   "source": [
    "### 2.3 Exercise: New trial wavefunction"
   ]
  },
  {
   "cell_type": "markdown",
   "metadata": {},
   "source": [
    "Determine the minimum energy of the particle in a box using a new trial wavefunction $$x^\\alpha(x-a)^\\alpha$$\n",
    "\n",
    "1. Find the minimum energy, $E_{trial}$\n",
    "2. Plot the new trial wavefunction and compare it to the true solution and the wavefunction you found above\n",
    "3. Compare you new energy to the trial energy you found above\n",
    "4. Which wavefunction is better? How do you know?"
   ]
  },
  {
   "cell_type": "code",
   "execution_count": 28,
   "metadata": {},
   "outputs": [
    {
     "name": "stdout",
     "output_type": "stream",
     "text": [
      "x**alpha*(-a + x)**alpha\n"
     ]
    }
   ],
   "source": [
    "trialwave = (x**alpha)*(x-a)**alpha\n",
    "print(trialwave)"
   ]
  },
  {
   "cell_type": "code",
   "execution_count": 36,
   "metadata": {},
   "outputs": [
    {
     "name": "stdout",
     "output_type": "stream",
     "text": [
      "alpha*Integral(x**(2*alpha)*(-a + x)**(2*alpha)*(a**2*alpha - a**2 - 4*a*alpha*x + 2*a*x + 4*alpha*x**2 - 2*x**2)/(x**2*(-a + x)**2), (x, 0, a))/2\n"
     ]
    }
   ],
   "source": [
    "top11 = (trialwave*sym.Rational(1/2))\n",
    "top21 = sym.diff(sym.diff(trialwave,x),x)\n",
    "bottom11 = (trialwave**2)\n",
    "top2 = sym.integrate((top11*top21),(x,0,a))\n",
    "print(top2)"
   ]
  },
  {
   "cell_type": "code",
   "execution_count": 37,
   "metadata": {},
   "outputs": [
    {
     "name": "stdout",
     "output_type": "stream",
     "text": [
      "a*a**(4*alpha)*exp(2*I*pi*alpha)*gamma(2*alpha + 1)*hyper((-2*alpha, 2*alpha + 1), (2*alpha + 2,), 1)/gamma(2*alpha + 2)\n"
     ]
    }
   ],
   "source": [
    "bottom2 = sym.integrate((bottom11),(x,0,a))\n",
    "print(bottom2)"
   ]
  },
  {
   "cell_type": "code",
   "execution_count": 38,
   "metadata": {},
   "outputs": [
    {
     "name": "stdout",
     "output_type": "stream",
     "text": [
      "alpha*exp(-2*I*pi*alpha)*gamma(2*alpha + 2)*Integral(x**(2*alpha)*(x - 1)**(2*alpha)*(4*alpha*x**2 - 4*alpha*x + alpha - 2*x**2 + 2*x - 1)/(x**2*(x - 1)**2), (x, 0, 1))/(2*gamma(2*alpha + 1)*hyper((-2*alpha, 2*alpha + 1), (2*alpha + 2,), 1))\n"
     ]
    }
   ],
   "source": [
    "Etrial2 = (top2/bottom2).subs(a,1)\n",
    "print(Etrial2)"
   ]
  },
  {
   "cell_type": "code",
   "execution_count": 39,
   "metadata": {},
   "outputs": [
    {
     "data": {
      "text/latex": [
       "$\\displaystyle \\left\\{\\alpha \\mid \\alpha \\in \\mathbb{C} \\wedge \\left(- 2 \\alpha {{}_{2}F_{1}\\left(\\begin{matrix} - 2 \\alpha, 2 \\alpha + 1 \\\\ 2 \\alpha + 2 \\end{matrix}\\middle| {1} \\right)} \\operatorname{polygamma}{\\left(0,2 \\alpha + 1 \\right)} \\int\\limits_{0}^{1} \\frac{x^{2 \\alpha} \\left(x - 1\\right)^{2 \\alpha} \\left(4 \\alpha x^{2} - 4 \\alpha x + \\alpha - 2 x^{2} + 2 x - 1\\right)}{x^{2} \\left(x - 1\\right)^{2}}\\, dx + 2 \\alpha {{}_{2}F_{1}\\left(\\begin{matrix} - 2 \\alpha, 2 \\alpha + 1 \\\\ 2 \\alpha + 2 \\end{matrix}\\middle| {1} \\right)} \\operatorname{polygamma}{\\left(0,2 \\alpha + 2 \\right)} \\int\\limits_{0}^{1} \\frac{x^{2 \\alpha} \\left(x - 1\\right)^{2 \\alpha} \\left(4 \\alpha x^{2} - 4 \\alpha x + \\alpha - 2 x^{2} + 2 x - 1\\right)}{x^{2} \\left(x - 1\\right)^{2}}\\, dx + \\alpha {{}_{2}F_{1}\\left(\\begin{matrix} - 2 \\alpha, 2 \\alpha + 1 \\\\ 2 \\alpha + 2 \\end{matrix}\\middle| {1} \\right)} \\int\\limits_{0}^{1} \\frac{x^{2 \\alpha} \\left(x - 1\\right)^{2 \\alpha} \\left(4 x^{2} - 4 x + 2 \\left(4 \\alpha x^{2} - 4 \\alpha x + \\alpha - 2 x^{2} + 2 x - 1\\right) \\log{\\left(x \\right)} + 2 \\left(4 \\alpha x^{2} - 4 \\alpha x + \\alpha - 2 x^{2} + 2 x - 1\\right) \\log{\\left(x - 1 \\right)} + 1\\right)}{x^{2} \\left(x - 1\\right)^{2}}\\, dx - 2 i \\pi \\alpha {{}_{2}F_{1}\\left(\\begin{matrix} - 2 \\alpha, 2 \\alpha + 1 \\\\ 2 \\alpha + 2 \\end{matrix}\\middle| {1} \\right)} \\int\\limits_{0}^{1} \\frac{x^{2 \\alpha} \\left(x - 1\\right)^{2 \\alpha} \\left(4 \\alpha x^{2} - 4 \\alpha x + \\alpha - 2 x^{2} + 2 x - 1\\right)}{x^{2} \\left(x - 1\\right)^{2}}\\, dx - \\alpha \\frac{d}{d \\alpha} {{}_{2}F_{1}\\left(\\begin{matrix} - 2 \\alpha, 2 \\alpha + 1 \\\\ 2 \\alpha + 2 \\end{matrix}\\middle| {1} \\right)} \\int\\limits_{0}^{1} \\frac{x^{2 \\alpha} \\left(x - 1\\right)^{2 \\alpha} \\left(4 \\alpha x^{2} - 4 \\alpha x + \\alpha - 2 x^{2} + 2 x - 1\\right)}{x^{2} \\left(x - 1\\right)^{2}}\\, dx + {{}_{2}F_{1}\\left(\\begin{matrix} - 2 \\alpha, 2 \\alpha + 1 \\\\ 2 \\alpha + 2 \\end{matrix}\\middle| {1} \\right)} \\int\\limits_{0}^{1} \\frac{x^{2 \\alpha} \\left(x - 1\\right)^{2 \\alpha} \\left(4 \\alpha x^{2} - 4 \\alpha x + \\alpha - 2 x^{2} + 2 x - 1\\right)}{x^{2} \\left(x - 1\\right)^{2}}\\, dx\\right) \\Gamma\\left(2 \\left(\\alpha + 1\\right)\\right) = 0 \\right\\} \\setminus \\left\\{\\alpha \\mid \\alpha \\in \\mathbb{C} \\wedge e^{2 i \\pi \\alpha} \\Gamma\\left(2 \\alpha + 1\\right) {{{}_{2}F_{1}\\left(\\begin{matrix} - 2 \\alpha, 2 \\alpha + 1 \\\\ 2 \\alpha + 2 \\end{matrix}\\middle| {1} \\right)}}^{2} = 0 \\right\\}$"
      ],
      "text/plain": [
       "⎧            ⎛                                                     1          \n",
       "⎪            ⎜                                                     ⌠          \n",
       "⎪            ⎜                                                     ⎮  2⋅α     \n",
       "⎪            ⎜       ┌─  ⎛-2⋅α, 2⋅α + 1 │  ⎞                       ⎮ x   ⋅(x -\n",
       "⎨α | α ∊ ℂ ∧ ⎜- 2⋅α⋅ ├─  ⎜              │ 1⎟⋅polygamma(0, 2⋅α + 1)⋅⎮ ─────────\n",
       "⎪            ⎜      2╵ 1 ⎝   2⋅α + 2    │  ⎠                       ⎮          \n",
       "⎪            ⎜                                                     ⎮          \n",
       "⎪            ⎜                                                     ⌡          \n",
       "⎩            ⎝                                                     0          \n",
       "\n",
       "                                                                              \n",
       "                                                                              \n",
       "   2⋅α ⎛     2                  2          ⎞                                  \n",
       " 1)   ⋅⎝4⋅α⋅x  - 4⋅α⋅x + α - 2⋅x  + 2⋅x - 1⎠           ┌─  ⎛-2⋅α, 2⋅α + 1 │  ⎞\n",
       "──────────────────────────────────────────── dx + 2⋅α⋅ ├─  ⎜              │ 1⎟\n",
       "             2        2                               2╵ 1 ⎝   2⋅α + 2    │  ⎠\n",
       "            x ⋅(x - 1)                                                        \n",
       "                                                                              \n",
       "                                                                              \n",
       "\n",
       "                       1                                                      \n",
       "                       ⌠                                                      \n",
       "                       ⎮  2⋅α        2⋅α ⎛     2                  2          ⎞\n",
       "                       ⎮ x   ⋅(x - 1)   ⋅⎝4⋅α⋅x  - 4⋅α⋅x + α - 2⋅x  + 2⋅x - 1⎠\n",
       "⋅polygamma(0, 2⋅α + 2)⋅⎮ ─────────────────────────────────────────────────────\n",
       "                       ⎮                       2        2                     \n",
       "                       ⎮                      x ⋅(x - 1)                      \n",
       "                       ⌡                                                      \n",
       "                       0                                                      \n",
       "\n",
       "                                 1                                            \n",
       "                                 ⌠                                            \n",
       "                                 ⎮  2⋅α        2⋅α ⎛   2           ⎛     2    \n",
       "         ┌─  ⎛-2⋅α, 2⋅α + 1 │  ⎞ ⎮ x   ⋅(x - 1)   ⋅⎝4⋅x  - 4⋅x + 2⋅⎝4⋅α⋅x  - 4\n",
       " dx + α⋅ ├─  ⎜              │ 1⎟⋅⎮ ───────────────────────────────────────────\n",
       "        2╵ 1 ⎝   2⋅α + 2    │  ⎠ ⎮                                            \n",
       "                                 ⎮                                            \n",
       "                                 ⌡                                            \n",
       "                                 0                                            \n",
       "\n",
       "                                                                              \n",
       "                                                                              \n",
       "              2          ⎞            ⎛     2                  2          ⎞   \n",
       "⋅α⋅x + α - 2⋅x  + 2⋅x - 1⎠⋅log(x) + 2⋅⎝4⋅α⋅x  - 4⋅α⋅x + α - 2⋅x  + 2⋅x - 1⎠⋅lo\n",
       "──────────────────────────────────────────────────────────────────────────────\n",
       "                   2        2                                                 \n",
       "                  x ⋅(x - 1)                                                  \n",
       "                                                                              \n",
       "                                                                              \n",
       "\n",
       "                                                    1                         \n",
       "                                                    ⌠                         \n",
       "            ⎞                                       ⎮  2⋅α        2⋅α ⎛     2 \n",
       "g(x - 1) + 1⎠               ┌─  ⎛-2⋅α, 2⋅α + 1 │  ⎞ ⎮ x   ⋅(x - 1)   ⋅⎝4⋅α⋅x  \n",
       "───────────── dx - 2⋅ⅈ⋅π⋅α⋅ ├─  ⎜              │ 1⎟⋅⎮ ────────────────────────\n",
       "                           2╵ 1 ⎝   2⋅α + 2    │  ⎠ ⎮                       2 \n",
       "                                                    ⎮                      x ⋅\n",
       "                                                    ⌡                         \n",
       "                                                    0                         \n",
       "\n",
       "                                                                  1           \n",
       "                                                                  ⌠           \n",
       "                 2          ⎞                                     ⎮  2⋅α      \n",
       "- 4⋅α⋅x + α - 2⋅x  + 2⋅x - 1⎠        d ⎛ ┌─  ⎛-2⋅α, 2⋅α + 1 │  ⎞⎞ ⎮ x   ⋅(x - \n",
       "───────────────────────────── dx - α⋅──⎜ ├─  ⎜              │ 1⎟⎟⋅⎮ ──────────\n",
       "       2                             dα⎝2╵ 1 ⎝   2⋅α + 2    │  ⎠⎠ ⎮           \n",
       "(x - 1)                                                           ⎮           \n",
       "                                                                  ⌡           \n",
       "                                                                  0           \n",
       "\n",
       "                                                                          1   \n",
       "                                                                          ⌠   \n",
       "  2⋅α ⎛     2                  2          ⎞                               ⎮  2\n",
       "1)   ⋅⎝4⋅α⋅x  - 4⋅α⋅x + α - 2⋅x  + 2⋅x - 1⎠       ┌─  ⎛-2⋅α, 2⋅α + 1 │  ⎞ ⎮ x \n",
       "─────────────────────────────────────────── dx +  ├─  ⎜              │ 1⎟⋅⎮ ──\n",
       "            2        2                           2╵ 1 ⎝   2⋅α + 2    │  ⎠ ⎮   \n",
       "           x ⋅(x - 1)                                                     ⎮   \n",
       "                                                                          ⌡   \n",
       "                                                                          0   \n",
       "\n",
       "                                                      ⎞                 ⎫     \n",
       "                                                      ⎟                 ⎪     \n",
       "⋅α        2⋅α ⎛     2                  2          ⎞   ⎟                 ⎪   ⎧ \n",
       "  ⋅(x - 1)   ⋅⎝4⋅α⋅x  - 4⋅α⋅x + α - 2⋅x  + 2⋅x - 1⎠   ⎟                 ⎪   ⎪ \n",
       "─────────────────────────────────────────────────── dx⎟⋅Γ(2⋅(α + 1)) = 0⎬ \\ ⎨α\n",
       "                    2        2                        ⎟                 ⎪   ⎪ \n",
       "                   x ⋅(x - 1)                         ⎟                 ⎪   ⎩ \n",
       "                                                      ⎟                 ⎪     \n",
       "                                                      ⎠                 ⎭     \n",
       "\n",
       "                                                             \n",
       "                                                             \n",
       "                                                       2    ⎫\n",
       "            2⋅ⅈ⋅π⋅α             ┌─  ⎛-2⋅α, 2⋅α + 1 │  ⎞     ⎪\n",
       " | α ∊ ℂ ∧ ℯ       ⋅Γ(2⋅α + 1)⋅ ├─  ⎜              │ 1⎟  = 0⎬\n",
       "                               2╵ 1 ⎝   2⋅α + 2    │  ⎠     ⎪\n",
       "                                                            ⎭\n",
       "                                                             \n",
       "                                                             "
      ]
     },
     "execution_count": 39,
     "metadata": {},
     "output_type": "execute_result"
    }
   ],
   "source": [
    "sym.solveset(sym.diff(Etrial2,alpha))"
   ]
  },
  {
   "cell_type": "markdown",
   "metadata": {},
   "source": [
    "Your descriptions/explanations here"
   ]
  },
  {
   "cell_type": "markdown",
   "metadata": {},
   "source": [
    "### 2.4 Exercise: Design your own wavefunction!"
   ]
  },
  {
   "cell_type": "markdown",
   "metadata": {},
   "source": [
    "**Now you get to make your own wavefunction!**\n",
    "\n",
    "The only guidance I would give you is that it make sense mathematically and that it include $\\alpha$ so that you can minimize the energy.\n",
    "\n",
    "Remember that $a$ and $x$ are both length units, and that trigonometric, logarithmic, and exponential functions are all unitless  \n",
    "\n",
    "\n",
    "Using your new wavefunction:\n",
    "\n",
    "1. Find the minimum energy, $E_{trial}$\n",
    "2. Plot the new trial wavefunction and compare it to the true solution and the wavefunction you found above\n",
    "3. Compare you new energy to the trial energy you found above\n",
    "4. Which wavefunction is better? How do you know?"
   ]
  },
  {
   "cell_type": "code",
   "execution_count": 52,
   "metadata": {},
   "outputs": [
    {
     "name": "stdout",
     "output_type": "stream",
     "text": [
      "2*x**alpha*(a + x)**alpha\n"
     ]
    }
   ],
   "source": [
    "mywave = (2*x**alpha)*(x+a)**alpha\n",
    "print(mywave)"
   ]
  },
  {
   "cell_type": "code",
   "execution_count": null,
   "metadata": {},
   "outputs": [],
   "source": [
    "top1 = (mywave*sym.Rational(-1/2))\n",
    "top2 = sym.diff(sym.diff(mywave,x),x)\n",
    "bottom1 = (mywave**2)\n",
    "top = sym.integrate((top1*top2),(x,0,a))\n",
    "bottom = sym.integrate((bottom1),(x,0,a))\n",
    "top/bottom\n",
    "Etrial = (top/bottom).subs(a,1)\n",
    "print(Etrial)"
   ]
  },
  {
   "cell_type": "code",
   "execution_count": null,
   "metadata": {},
   "outputs": [],
   "source": [
    "import sympy as sym\n",
    "sym.solveset(sym.diff(Etrial,alpha))"
   ]
  },
  {
   "cell_type": "code",
   "execution_count": 47,
   "metadata": {},
   "outputs": [
    {
     "data": {
      "image/png": "[encoded data removed]",
      "text/latex": [
       "$\\displaystyle \\frac{\\int\\limits_{0}^{1} \\left(- \\frac{0.324181504570989}{x^{2.51549530460637}}\\right)\\, dx}{2 \\int\\limits_{0}^{1} x^{-0.51549530460637}\\, dx}$"
      ],
      "text/plain": [
       "1                                         \n",
       "⌠                                         \n",
       "⎮                     -2.51549530460637   \n",
       "⎮ -0.324181504570989⋅x                  dx\n",
       "⌡                                         \n",
       "0                                         \n",
       "──────────────────────────────────────────\n",
       "          1                               \n",
       "          ⌠                               \n",
       "          ⎮  -0.51549530460637            \n",
       "        2⋅⎮ x                  dx         \n",
       "          ⌡                               \n",
       "          0                               "
      ]
     },
     "execution_count": 47,
     "metadata": {},
     "output_type": "execute_result"
    }
   ],
   "source": [
    "Etrial.subs(alpha, "
   ]
  },
  {
   "cell_type": "code",
   "execution_count": 48,
   "metadata": {},
   "outputs": [
    {
     "data": {
      "image/png": "[encoded data removed]",
      "text/latex": [
       "$\\displaystyle \\frac{\\int\\limits_{0}^{1} \\left(- \\frac{27.1390206499698}{x^{11.466904155474}}\\right)\\, dx}{2 \\int\\limits_{0}^{1} x^{-9.46690415547402}\\, dx}$"
      ],
      "text/plain": [
       "1                                       \n",
       "⌠                                       \n",
       "⎮                    -11.466904155474   \n",
       "⎮ -27.1390206499698⋅x                 dx\n",
       "⌡                                       \n",
       "0                                       \n",
       "────────────────────────────────────────\n",
       "         1                              \n",
       "         ⌠                              \n",
       "         ⎮  -9.46690415547402           \n",
       "       2⋅⎮ x                  dx        \n",
       "         ⌡                              \n",
       "         0                              "
      ]
     },
     "execution_count": 48,
     "metadata": {},
     "output_type": "execute_result"
    }
   ],
   "source": [
    "Etrial.subs(alpha, "
   ]
  },
  {
   "cell_type": "code",
   "execution_count": null,
   "metadata": {},
   "outputs": [],
   "source": [
    "NewWave = phi.subs(alpha, \n",
    "print(NewWave)"
   ]
  },
  {
   "cell_type": "code",
   "execution_count": null,
   "metadata": {},
   "outputs": [],
   "source": [
    "NewWave2 = NewWave.subs(a,1)\n",
    "print(NewWave2)"
   ]
  },
  {
   "cell_type": "markdown",
   "metadata": {},
   "source": [
    "Your descriptions/explanations here"
   ]
  },
  {
   "cell_type": "code",
   "execution_count": null,
   "metadata": {},
   "outputs": [],
   "source": []
  },
  {
   "cell_type": "markdown",
   "metadata": {},
   "source": [
    "# Reading Homework"
   ]
  },
  {
   "cell_type": "markdown",
   "metadata": {},
   "source": [
    "Read the following sections in Kramer\n",
    "\n",
    "- 4.2.3 Born-Oppenheimer approximation\n",
    "- 4.3.2 Secular equation\n",
    "- All of 4.5\n",
    "\n",
    "For each subsection\n",
    "- write down the subchapter name\n",
    "- what was the most important idea\n",
    "- draw an idea digram of the main idea\n",
    "\n",
    "**Make sure to upload this to the assignment repository**\n",
    "\n",
    "Example idea diagram:\n",
    "![Particle in a box](idea_map.png)"
   ]
  },
  {
   "cell_type": "code",
   "execution_count": null,
   "metadata": {},
   "outputs": [],
   "source": []
  }
 ],
 "metadata": {
  "kernelspec": {
   "display_name": "Python 3",
   "language": "python",
   "name": "python3"
  },
  "language_info": {
   "codemirror_mode": {
    "name": "ipython",
    "version": 3
   },
   "file_extension": ".py",
   "mimetype": "text/x-python",
   "name": "python",
   "nbconvert_exporter": "python",
   "pygments_lexer": "ipython3",
   "version": "3.7.3"
  }
 },
 "nbformat": 4,
 "nbformat_minor": 2
}
